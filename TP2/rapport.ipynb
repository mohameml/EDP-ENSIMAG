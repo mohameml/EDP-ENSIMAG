{
 "cells": [
  {
   "cell_type": "markdown",
   "metadata": {},
   "source": [
    "## TP2 : Options américaines"
   ]
  },
  {
   "cell_type": "code",
   "execution_count": 1,
   "metadata": {},
   "outputs": [],
   "source": [
    "import numpy as np\n"
   ]
  },
  {
   "cell_type": "markdown",
   "metadata": {},
   "source": [
    "### Tache 1 :"
   ]
  },
  {
   "cell_type": "code",
   "execution_count": 88,
   "metadata": {},
   "outputs": [],
   "source": [
    "def GSP(alpha , beta , gamma , B , G, x_0 , epsilon , K) :\n",
    "    \"\"\"\n",
    "    \n",
    "    \"\"\"\n",
    "    def psi(X) :\n",
    "        n = X.shape[0]\n",
    "        Z = np.zeros(n)\n",
    "        Z[0] = max((1/alpha)*(B[0] - beta*X[0]) , G[0])\n",
    "        for i in range(1,n-1):\n",
    "            Z[i] = max((1/alpha)*(B[i] - gamma*Z[i-1]- beta*X[i+1]) , G[i])\n",
    "        \n",
    "        Z[n-1] = max((1/alpha)*(B[n-1] - gamma*Z[n-2]) , G[n-1])\n",
    "        return Z\n",
    "        \n",
    "    res = x_0\n",
    "    k = 0 \n",
    "    while k <= K :\n",
    "        res_prec = res \n",
    "        res = psi(res)\n",
    "        if np.linalg.norm(res - res_prec) / np.linalg.norm(res_prec) <= epsilon : \n",
    "            return (res , k)\n",
    "        k+=1\n",
    "    \n",
    "    return (res , K)\n",
    "    \n",
    "\n"
   ]
  },
  {
   "cell_type": "code",
   "execution_count": 73,
   "metadata": {},
   "outputs": [
    {
     "name": "stdout",
     "output_type": "stream",
     "text": [
      "[   1. -500.  501.]\n",
      "1000\n"
     ]
    }
   ],
   "source": [
    "alpha = 1\n",
    "beta = 1\n",
    "gamma = 1\n",
    "B = np.array([1,1,1])\n",
    "G = np.array([0,0,0])\n",
    "epsilon = 10e-4\n",
    "K = 1000\n",
    "x_0 = np.array([0,1,0])\n",
    "res , k  = GSP(alpha , beta , gamma , B , G, x_0 , epsilon , K)\n",
    "print(res)\n",
    "print(k)"
   ]
  },
  {
   "cell_type": "markdown",
   "metadata": {},
   "source": [
    "### Tache 2 :"
   ]
  },
  {
   "cell_type": "code",
   "execution_count": 90,
   "metadata": {},
   "outputs": [
    {
     "name": "stdout",
     "output_type": "stream",
     "text": [
      "1\n"
     ]
    },
    {
     "data": {
      "image/png": "[encoded data removed]",
      "text/plain": [
       "<Figure size 432x288 with 1 Axes>"
      ]
     },
     "metadata": {
      "needs_background": "light"
     },
     "output_type": "display_data"
    }
   ],
   "source": [
    "alpha = 2\n",
    "beta = -1\n",
    "gamma = -1\n",
    "N = 100000\n",
    "B = np.zeros(N)\n",
    "delta_X = 2/(N+1)\n",
    "val_x = [-1+i*delta_X for i in range(1 ,N+1)]\n",
    "def g(x):\n",
    "    return 3*np.exp(-(x+0.4)**2 / 0.1) + 4*np.exp(-(x-0.4)**2 / 0.2) - 1\n",
    "G = np.array([g(x) for x in val_x])\n",
    "epsilon = 10e-4\n",
    "K = 1000\n",
    "x_0 = np.ones(N)\n",
    "res , k  = GSP(alpha , beta , gamma , B , G, x_0 , epsilon , K)\n",
    "#print(res)\n",
    "print(k)\n",
    "\n",
    "x = [-1 + i*delta_X for i in range(1,N+1)] \n",
    "y = [g(x) for x in x]\n",
    "plt.plot(x , y )\n",
    "plt.plot(x ,res)\n",
    "plt.show()"
   ]
  },
  {
   "cell_type": "code",
   "execution_count": 75,
   "metadata": {},
   "outputs": [
    {
     "data": {
      "image/png": "[encoded data removed]",
      "text/plain": [
       "<Figure size 432x288 with 1 Axes>"
      ]
     },
     "metadata": {
      "needs_background": "light"
     },
     "output_type": "display_data"
    }
   ],
   "source": [
    "val_N = [N for N in range(10 ,10000, 100)]\n",
    "val_K = [0 for _ in range(len(val_N))]\n",
    "for i in range(len(val_N)) : \n",
    "    N = val_N[i]\n",
    "    B = np.zeros(N)\n",
    "    delta_X = 2/(N+1)\n",
    "    val_x = [-1+i*delta_X for i in range(1 ,N+1)]\n",
    "    G = np.array([g(x) for x in val_x])\n",
    "    x_0 = np.ones(N)\n",
    "    val_K[i] = GSP(alpha , beta , gamma , B , G, x_0 , epsilon , K)[1]\n",
    "    \n",
    "import matplotlib.pyplot as plt \n",
    "\n",
    "plt.plot(val_N , val_K , label=\"evolution de k en fonction de N\")\n",
    "plt.xlabel(\"N\")\n",
    "plt.ylabel(\"K\")\n",
    "plt.legend()\n",
    "plt.show()\n",
    "    "
   ]
  },
  {
   "cell_type": "code",
   "execution_count": null,
   "metadata": {},
   "outputs": [],
   "source": []
  },
  {
   "cell_type": "markdown",
   "metadata": {},
   "source": [
    "### Tache 3: Option américaine"
   ]
  },
  {
   "cell_type": "code",
   "execution_count": 76,
   "metadata": {},
   "outputs": [],
   "source": [
    "def price_amr(N,M,K,T,sigma,r, delta, payOff,epsilon,K_max):\n",
    "    U = np.zeros((N,M))\n",
    "    C = np.zeros((N,M))\n",
    "    \n",
    "    a = np.log(K/10)\n",
    "    b = np.log(K*10)\n",
    "    \n",
    "    delta_x = (b-a)/(N+1)\n",
    "    delta_t = T/M\n",
    "    \n",
    "    alpha = (1+ sigma**2 * delta_t/delta_x**2 + r*delta_t)\n",
    "    beta = -(sigma**2 * delta_t/(2*delta_x**2) + (r-delta-sigma**2 /2 )*delta_t/(2*delta_x))\n",
    "    gamma = (-sigma**2 * delta_t/(2*delta_x**2) + (r-delta-sigma**2 /2 )*delta_t/(2*delta_x))\n",
    "    \n",
    "    F = np.zeros(N)\n",
    "    F[0]= -gamma*payOff(np.exp(a),K)\n",
    "    F[N-1]= -beta*payOff(np.exp(b),K)\n",
    "    \n",
    "    G = np.array([payOff(np.exp(a+n*delta_x),K) for n in range(1,N+1)])\n",
    "    \n",
    "    U[:,0]=G\n",
    "    C[:,0]= np.array([1 for _ in range(N)])\n",
    "    for m in range(1,M):\n",
    "        B = U[:,m-1] + F\n",
    "        x_0 = U[:,m-1]\n",
    "        U[:,m] = GSP(alpha , beta , gamma , B , G, x_0 , epsilon , K_max)[0]\n",
    "        for i in range(N):\n",
    "            C[i,m] = 1 if U[i,m] == G[i] else 0\n",
    "\n",
    "    \n",
    "    return U, C\n",
    "\n",
    "\n",
    "def payoff_call(S,K):\n",
    "    return max(S-K,0)\n",
    "\n",
    "  \n",
    "def payoff_put(S,K):\n",
    "    return max(K-S,0)\n",
    "    \n",
    "    "
   ]
  },
  {
   "cell_type": "code",
   "execution_count": 77,
   "metadata": {},
   "outputs": [
    {
     "ename": "TypeError",
     "evalue": "'numpy.float64' object cannot be interpreted as an integer",
     "output_type": "error",
     "traceback": [
      "\u001b[0;31m---------------------------------------------------------------------------\u001b[0m",
      "\u001b[0;31mTypeError\u001b[0m                                 Traceback (most recent call last)",
      "Cell \u001b[0;32mIn[77], line 17\u001b[0m\n\u001b[1;32m     14\u001b[0m delta_x \u001b[38;5;241m=\u001b[39m (b\u001b[38;5;241m-\u001b[39ma)\u001b[38;5;241m/\u001b[39m(N\u001b[38;5;241m+\u001b[39m\u001b[38;5;241m1\u001b[39m)\n\u001b[1;32m     15\u001b[0m delta_t \u001b[38;5;241m=\u001b[39m T\u001b[38;5;241m/\u001b[39mM\n\u001b[0;32m---> 17\u001b[0m U,C \u001b[38;5;241m=\u001b[39m \u001b[43mprice_amr\u001b[49m\u001b[43m(\u001b[49m\u001b[43mN\u001b[49m\u001b[43m,\u001b[49m\u001b[43mM\u001b[49m\u001b[43m,\u001b[49m\u001b[43mK\u001b[49m\u001b[43m,\u001b[49m\u001b[43mT\u001b[49m\u001b[43m,\u001b[49m\u001b[43msigma\u001b[49m\u001b[43m,\u001b[49m\u001b[43mr\u001b[49m\u001b[43m,\u001b[49m\u001b[43m \u001b[49m\u001b[43mdelta\u001b[49m\u001b[43m,\u001b[49m\u001b[43m \u001b[49m\u001b[43mpayoff_call\u001b[49m\u001b[43m,\u001b[49m\u001b[43mepsilon\u001b[49m\u001b[43m,\u001b[49m\u001b[43mK_max\u001b[49m\u001b[43m)\u001b[49m\n\u001b[1;32m     19\u001b[0m abs_x \u001b[38;5;241m=\u001b[39m [np\u001b[38;5;241m.\u001b[39mexp(a \u001b[38;5;241m+\u001b[39m i\u001b[38;5;241m*\u001b[39mdelta_x) \u001b[38;5;28;01mfor\u001b[39;00m i \u001b[38;5;129;01min\u001b[39;00m \u001b[38;5;28mrange\u001b[39m(\u001b[38;5;241m1\u001b[39m,N\u001b[38;5;241m+\u001b[39m\u001b[38;5;241m1\u001b[39m) ]\n\u001b[1;32m     20\u001b[0m ord_y \u001b[38;5;241m=\u001b[39m [T\u001b[38;5;241m-\u001b[39mi\u001b[38;5;241m*\u001b[39mdelta_t \u001b[38;5;28;01mfor\u001b[39;00m i \u001b[38;5;129;01min\u001b[39;00m \u001b[38;5;28mrange\u001b[39m(\u001b[38;5;241m1\u001b[39m,M\u001b[38;5;241m+\u001b[39m\u001b[38;5;241m1\u001b[39m) ]\n",
      "Cell \u001b[0;32mIn[76], line 26\u001b[0m, in \u001b[0;36mprice_amr\u001b[0;34m(N, M, K, T, sigma, r, delta, payOff, epsilon, K_max)\u001b[0m\n\u001b[1;32m     24\u001b[0m B \u001b[38;5;241m=\u001b[39m U[:,m\u001b[38;5;241m-\u001b[39m\u001b[38;5;241m1\u001b[39m] \u001b[38;5;241m+\u001b[39m F\n\u001b[1;32m     25\u001b[0m x_0 \u001b[38;5;241m=\u001b[39m U[:,m\u001b[38;5;241m-\u001b[39m\u001b[38;5;241m1\u001b[39m]\n\u001b[0;32m---> 26\u001b[0m U[:,m] \u001b[38;5;241m=\u001b[39m \u001b[43mGSP\u001b[49m\u001b[43m(\u001b[49m\u001b[43malpha\u001b[49m\u001b[43m \u001b[49m\u001b[43m,\u001b[49m\u001b[43m \u001b[49m\u001b[43mbeta\u001b[49m\u001b[43m \u001b[49m\u001b[43m,\u001b[49m\u001b[43m \u001b[49m\u001b[43mgamma\u001b[49m\u001b[43m \u001b[49m\u001b[43m,\u001b[49m\u001b[43m \u001b[49m\u001b[43mB\u001b[49m\u001b[43m \u001b[49m\u001b[43m,\u001b[49m\u001b[43m \u001b[49m\u001b[43mG\u001b[49m\u001b[43m,\u001b[49m\u001b[43m \u001b[49m\u001b[43mx_0\u001b[49m\u001b[43m \u001b[49m\u001b[43m,\u001b[49m\u001b[43m \u001b[49m\u001b[43mepsilon\u001b[49m\u001b[43m \u001b[49m\u001b[43m,\u001b[49m\u001b[43m \u001b[49m\u001b[43mK_max\u001b[49m\u001b[43m)\u001b[49m[\u001b[38;5;241m0\u001b[39m]\n\u001b[1;32m     27\u001b[0m \u001b[38;5;28;01mfor\u001b[39;00m i \u001b[38;5;129;01min\u001b[39;00m \u001b[38;5;28mrange\u001b[39m(N):\n\u001b[1;32m     28\u001b[0m     C[i,m] \u001b[38;5;241m=\u001b[39m \u001b[38;5;241m1\u001b[39m \u001b[38;5;28;01mif\u001b[39;00m U[i,m] \u001b[38;5;241m==\u001b[39m G[i] \u001b[38;5;28;01melse\u001b[39;00m \u001b[38;5;241m0\u001b[39m\n",
      "Cell \u001b[0;32mIn[72], line 19\u001b[0m, in \u001b[0;36mGSP\u001b[0;34m(alpha, beta, gamma, B, G, x_0, epsilon, K)\u001b[0m\n\u001b[1;32m     17\u001b[0m \u001b[38;5;28;01mwhile\u001b[39;00m k \u001b[38;5;241m<\u001b[39m\u001b[38;5;241m=\u001b[39m K :\n\u001b[1;32m     18\u001b[0m     res_prec \u001b[38;5;241m=\u001b[39m res \n\u001b[0;32m---> 19\u001b[0m     res \u001b[38;5;241m=\u001b[39m \u001b[43mpsi\u001b[49m\u001b[43m(\u001b[49m\u001b[43mres\u001b[49m\u001b[43m)\u001b[49m\n\u001b[1;32m     20\u001b[0m     \u001b[38;5;28;01mif\u001b[39;00m np\u001b[38;5;241m.\u001b[39mlinalg\u001b[38;5;241m.\u001b[39mnorm(res \u001b[38;5;241m-\u001b[39m res_prec) \u001b[38;5;241m/\u001b[39m np\u001b[38;5;241m.\u001b[39mlinalg\u001b[38;5;241m.\u001b[39mnorm(res_prec) \u001b[38;5;241m<\u001b[39m\u001b[38;5;241m=\u001b[39m epsilon : \n\u001b[1;32m     21\u001b[0m         \u001b[38;5;28;01mreturn\u001b[39;00m (res , k)\n",
      "Cell \u001b[0;32mIn[72], line 8\u001b[0m, in \u001b[0;36mGSP.<locals>.psi\u001b[0;34m(X)\u001b[0m\n\u001b[1;32m      6\u001b[0m n \u001b[38;5;241m=\u001b[39m X\u001b[38;5;241m.\u001b[39mshape[\u001b[38;5;241m0\u001b[39m]\n\u001b[1;32m      7\u001b[0m Z \u001b[38;5;241m=\u001b[39m np\u001b[38;5;241m.\u001b[39mzeros(n)\n\u001b[0;32m----> 8\u001b[0m Z[\u001b[38;5;241m0\u001b[39m] \u001b[38;5;241m=\u001b[39m \u001b[43mnp\u001b[49m\u001b[38;5;241;43m.\u001b[39;49m\u001b[43mmax\u001b[49m\u001b[43m(\u001b[49m\u001b[43m(\u001b[49m\u001b[38;5;241;43m1\u001b[39;49m\u001b[38;5;241;43m/\u001b[39;49m\u001b[43malpha\u001b[49m\u001b[43m)\u001b[49m\u001b[38;5;241;43m*\u001b[39;49m\u001b[43m(\u001b[49m\u001b[43mB\u001b[49m\u001b[43m[\u001b[49m\u001b[38;5;241;43m0\u001b[39;49m\u001b[43m]\u001b[49m\u001b[43m \u001b[49m\u001b[38;5;241;43m-\u001b[39;49m\u001b[43m \u001b[49m\u001b[43mbeta\u001b[49m\u001b[38;5;241;43m*\u001b[39;49m\u001b[43mX\u001b[49m\u001b[43m[\u001b[49m\u001b[38;5;241;43m0\u001b[39;49m\u001b[43m]\u001b[49m\u001b[43m)\u001b[49m\u001b[43m \u001b[49m\u001b[43m,\u001b[49m\u001b[43m \u001b[49m\u001b[43mG\u001b[49m\u001b[43m[\u001b[49m\u001b[38;5;241;43m0\u001b[39;49m\u001b[43m]\u001b[49m\u001b[43m)\u001b[49m\n\u001b[1;32m      9\u001b[0m \u001b[38;5;28;01mfor\u001b[39;00m i \u001b[38;5;129;01min\u001b[39;00m \u001b[38;5;28mrange\u001b[39m(\u001b[38;5;241m1\u001b[39m,n\u001b[38;5;241m-\u001b[39m\u001b[38;5;241m1\u001b[39m):\n\u001b[1;32m     10\u001b[0m     Z[i] \u001b[38;5;241m=\u001b[39m np\u001b[38;5;241m.\u001b[39mmax((\u001b[38;5;241m1\u001b[39m\u001b[38;5;241m/\u001b[39malpha)\u001b[38;5;241m*\u001b[39m(B[i] \u001b[38;5;241m-\u001b[39m gamma\u001b[38;5;241m*\u001b[39mZ[i\u001b[38;5;241m-\u001b[39m\u001b[38;5;241m1\u001b[39m]\u001b[38;5;241m-\u001b[39m beta\u001b[38;5;241m*\u001b[39mX[i\u001b[38;5;241m+\u001b[39m\u001b[38;5;241m1\u001b[39m]) , G[i])\n",
      "File \u001b[0;32m/usr/local/lib/python3.10/dist-packages/numpy/_core/fromnumeric.py:3199\u001b[0m, in \u001b[0;36mmax\u001b[0;34m(a, axis, out, keepdims, initial, where)\u001b[0m\n\u001b[1;32m   3080\u001b[0m \u001b[38;5;129m@array_function_dispatch\u001b[39m(_max_dispatcher)\n\u001b[1;32m   3081\u001b[0m \u001b[38;5;129m@set_module\u001b[39m(\u001b[38;5;124m'\u001b[39m\u001b[38;5;124mnumpy\u001b[39m\u001b[38;5;124m'\u001b[39m)\n\u001b[1;32m   3082\u001b[0m \u001b[38;5;28;01mdef\u001b[39;00m \u001b[38;5;21mmax\u001b[39m(a, axis\u001b[38;5;241m=\u001b[39m\u001b[38;5;28;01mNone\u001b[39;00m, out\u001b[38;5;241m=\u001b[39m\u001b[38;5;28;01mNone\u001b[39;00m, keepdims\u001b[38;5;241m=\u001b[39mnp\u001b[38;5;241m.\u001b[39m_NoValue, initial\u001b[38;5;241m=\u001b[39mnp\u001b[38;5;241m.\u001b[39m_NoValue,\n\u001b[1;32m   3083\u001b[0m          where\u001b[38;5;241m=\u001b[39mnp\u001b[38;5;241m.\u001b[39m_NoValue):\n\u001b[1;32m   3084\u001b[0m \u001b[38;5;250m    \u001b[39m\u001b[38;5;124;03m\"\"\"\u001b[39;00m\n\u001b[1;32m   3085\u001b[0m \u001b[38;5;124;03m    Return the maximum of an array or maximum along an axis.\u001b[39;00m\n\u001b[1;32m   3086\u001b[0m \n\u001b[0;32m   (...)\u001b[0m\n\u001b[1;32m   3197\u001b[0m \u001b[38;5;124;03m    5\u001b[39;00m\n\u001b[1;32m   3198\u001b[0m \u001b[38;5;124;03m    \"\"\"\u001b[39;00m\n\u001b[0;32m-> 3199\u001b[0m     \u001b[38;5;28;01mreturn\u001b[39;00m \u001b[43m_wrapreduction\u001b[49m\u001b[43m(\u001b[49m\u001b[43ma\u001b[49m\u001b[43m,\u001b[49m\u001b[43m \u001b[49m\u001b[43mnp\u001b[49m\u001b[38;5;241;43m.\u001b[39;49m\u001b[43mmaximum\u001b[49m\u001b[43m,\u001b[49m\u001b[43m \u001b[49m\u001b[38;5;124;43m'\u001b[39;49m\u001b[38;5;124;43mmax\u001b[39;49m\u001b[38;5;124;43m'\u001b[39;49m\u001b[43m,\u001b[49m\u001b[43m \u001b[49m\u001b[43maxis\u001b[49m\u001b[43m,\u001b[49m\u001b[43m \u001b[49m\u001b[38;5;28;43;01mNone\u001b[39;49;00m\u001b[43m,\u001b[49m\u001b[43m \u001b[49m\u001b[43mout\u001b[49m\u001b[43m,\u001b[49m\n\u001b[1;32m   3200\u001b[0m \u001b[43m                          \u001b[49m\u001b[43mkeepdims\u001b[49m\u001b[38;5;241;43m=\u001b[39;49m\u001b[43mkeepdims\u001b[49m\u001b[43m,\u001b[49m\u001b[43m \u001b[49m\u001b[43minitial\u001b[49m\u001b[38;5;241;43m=\u001b[39;49m\u001b[43minitial\u001b[49m\u001b[43m,\u001b[49m\u001b[43m \u001b[49m\u001b[43mwhere\u001b[49m\u001b[38;5;241;43m=\u001b[39;49m\u001b[43mwhere\u001b[49m\u001b[43m)\u001b[49m\n",
      "File \u001b[0;32m/usr/local/lib/python3.10/dist-packages/numpy/_core/fromnumeric.py:84\u001b[0m, in \u001b[0;36m_wrapreduction\u001b[0;34m(obj, ufunc, method, axis, dtype, out, **kwargs)\u001b[0m\n\u001b[1;32m     82\u001b[0m             \u001b[38;5;28;01mreturn\u001b[39;00m reduction(axis\u001b[38;5;241m=\u001b[39maxis, dtype\u001b[38;5;241m=\u001b[39mdtype, out\u001b[38;5;241m=\u001b[39mout, \u001b[38;5;241m*\u001b[39m\u001b[38;5;241m*\u001b[39mpasskwargs)\n\u001b[1;32m     83\u001b[0m         \u001b[38;5;28;01melse\u001b[39;00m:\n\u001b[0;32m---> 84\u001b[0m             \u001b[38;5;28;01mreturn\u001b[39;00m \u001b[43mreduction\u001b[49m\u001b[43m(\u001b[49m\u001b[43maxis\u001b[49m\u001b[38;5;241;43m=\u001b[39;49m\u001b[43maxis\u001b[49m\u001b[43m,\u001b[49m\u001b[43m \u001b[49m\u001b[43mout\u001b[49m\u001b[38;5;241;43m=\u001b[39;49m\u001b[43mout\u001b[49m\u001b[43m,\u001b[49m\u001b[43m \u001b[49m\u001b[38;5;241;43m*\u001b[39;49m\u001b[38;5;241;43m*\u001b[39;49m\u001b[43mpasskwargs\u001b[49m\u001b[43m)\u001b[49m\n\u001b[1;32m     86\u001b[0m \u001b[38;5;28;01mreturn\u001b[39;00m ufunc\u001b[38;5;241m.\u001b[39mreduce(obj, axis, dtype, out, \u001b[38;5;241m*\u001b[39m\u001b[38;5;241m*\u001b[39mpasskwargs)\n",
      "File \u001b[0;32m/usr/local/lib/python3.10/dist-packages/numpy/_core/_methods.py:45\u001b[0m, in \u001b[0;36m_amax\u001b[0;34m(a, axis, out, keepdims, initial, where)\u001b[0m\n\u001b[1;32m     43\u001b[0m \u001b[38;5;28;01mdef\u001b[39;00m \u001b[38;5;21m_amax\u001b[39m(a, axis\u001b[38;5;241m=\u001b[39m\u001b[38;5;28;01mNone\u001b[39;00m, out\u001b[38;5;241m=\u001b[39m\u001b[38;5;28;01mNone\u001b[39;00m, keepdims\u001b[38;5;241m=\u001b[39m\u001b[38;5;28;01mFalse\u001b[39;00m,\n\u001b[1;32m     44\u001b[0m           initial\u001b[38;5;241m=\u001b[39m_NoValue, where\u001b[38;5;241m=\u001b[39m\u001b[38;5;28;01mTrue\u001b[39;00m):\n\u001b[0;32m---> 45\u001b[0m     \u001b[38;5;28;01mreturn\u001b[39;00m \u001b[43mumr_maximum\u001b[49m\u001b[43m(\u001b[49m\u001b[43ma\u001b[49m\u001b[43m,\u001b[49m\u001b[43m \u001b[49m\u001b[43maxis\u001b[49m\u001b[43m,\u001b[49m\u001b[43m \u001b[49m\u001b[38;5;28;43;01mNone\u001b[39;49;00m\u001b[43m,\u001b[49m\u001b[43m \u001b[49m\u001b[43mout\u001b[49m\u001b[43m,\u001b[49m\u001b[43m \u001b[49m\u001b[43mkeepdims\u001b[49m\u001b[43m,\u001b[49m\u001b[43m \u001b[49m\u001b[43minitial\u001b[49m\u001b[43m,\u001b[49m\u001b[43m \u001b[49m\u001b[43mwhere\u001b[49m\u001b[43m)\u001b[49m\n",
      "\u001b[0;31mTypeError\u001b[0m: 'numpy.float64' object cannot be interpreted as an integer"
     ]
    }
   ],
   "source": [
    "#test\n",
    "N,M=100,100\n",
    "K=1\n",
    "T=1\n",
    "sigma = 0.5\n",
    "r = 0.02\n",
    "delta = 0.01\n",
    "epsilon = 10e-4\n",
    "K_max = 1000\n",
    "\n",
    "a = np.log(K/10)\n",
    "b = np.log(K*10)\n",
    "\n",
    "delta_x = (b-a)/(N+1)\n",
    "delta_t = T/M\n",
    "\n",
    "U,C = price_amr(N,M,K,T,sigma,r, delta, payoff_call,epsilon,K_max)\n",
    "\n",
    "abs_x = [np.exp(a + i*delta_x) for i in range(1,N+1) ]\n",
    "ord_y = [T-i*delta_t for i in range(1,M+1) ]\n",
    "\n",
    "plt.figure(figsize=(10,6))\n",
    "# Affichage de la matrice avec des axes personnalisés\n",
    "plt.imshow(C.T, aspect='auto', extent=[abs_x[0], abs_x[-1], ord_y[-1], ord_y[0]])\n",
    "\n",
    "\n",
    "# Affichage du graphique\n",
    "plt.show()\n"
   ]
  },
  {
   "cell_type": "code",
   "execution_count": null,
   "metadata": {},
   "outputs": [],
   "source": []
  }
 ],
 "metadata": {
  "kernelspec": {
   "display_name": "Python 3 (ipykernel)",
   "language": "python",
   "name": "python3"
  },
  "language_info": {
   "codemirror_mode": {
    "name": "ipython",
    "version": 3
   },
   "file_extension": ".py",
   "mimetype": "text/x-python",
   "name": "python",
   "nbconvert_exporter": "python",
   "pygments_lexer": "ipython3",
   "version": "3.10.12"
  }
 },
 "nbformat": 4,
 "nbformat_minor": 2
}
